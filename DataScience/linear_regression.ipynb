{
 "cells": [
  {
   "cell_type": "code",
   "execution_count": 1,
   "metadata": {},
   "outputs": [],
   "source": [
    "# import section -- Must run this cell before anything\n",
    "import sklearn as sk\n",
    "from sklearn.linear_model import LinearRegression\n",
    "from sklearn.metrics import mean_squared_error, r2_score\n",
    "import numpy as np\n",
    "import matplotlib.pyplot as plt\n",
    "from numpy.linalg import inv\n",
    "%matplotlib inline"
   ]
  },
  {
   "cell_type": "markdown",
   "metadata": {},
   "source": [
    "### <center> Simple Linear Regression\n",
    "---\n",
    "<center>Predicting pizza price example"
   ]
  },
  {
   "cell_type": "code",
   "execution_count": 2,
   "metadata": {},
   "outputs": [
    {
     "data": {
      "image/png": "[encoded data removed]",
      "text/plain": [
       "<Figure size 432x288 with 1 Axes>"
      ]
     },
     "metadata": {
      "needs_background": "light"
     },
     "output_type": "display_data"
    }
   ],
   "source": [
    "# Creating the data\n",
    "# A convention is to name the matrix of feature X and to name the output vector y.\n",
    "# Uppercase letters indicate matrices, and lowercase letters indicate vectors.\n",
    "X = np.array([[6], [8], [10], [14], [18]]).reshape(-1, 1)  # vector representing the size of the pizzas(diameter).\n",
    "y = np.array([7, 9, 13, 17.5, 18])  # vector representing the prices of the pizzas.\n",
    "\n",
    "# plotting the data\n",
    "plt.figure()\n",
    "plt.title('Pizza price plotted against diameter')\n",
    "plt.xlabel('Diameter in inches')\n",
    "plt.ylabel('Price in dollars')\n",
    "plt.plot(X, y, 'k.')\n",
    "plt.axis([0, 25, 0, 25])\n",
    "plt.grid(True)\n",
    "plt.show()"
   ]
  },
  {
   "cell_type": "code",
   "execution_count": 32,
   "metadata": {
    "scrolled": false
   },
   "outputs": [
    {
     "name": "stdout",
     "output_type": "stream",
     "text": [
      "1.965517241379315\n",
      "[0.9762931]\n"
     ]
    },
    {
     "data": {
      "image/png": "[encoded data removed]",
      "text/plain": [
       "<Figure size 432x288 with 1 Axes>"
      ]
     },
     "metadata": {
      "needs_background": "light"
     },
     "output_type": "display_data"
    },
    {
     "name": "stdout",
     "output_type": "stream",
     "text": [
      "A 12\" pizza should cost: $13.68\n"
     ]
    }
   ],
   "source": [
    "# Ordinary Least Squares(OLS) Linear Regression\n",
    "model = LinearRegression() # Create an instance of the estimator. \n",
    "model.fit(X, y) # Fit the model on the training data.\n",
    "print(model.intercept_) # shows where the line intercept with y axis.\n",
    "print(model.coef_) # shows the coefficents of the equation. In this case, it will shows ony the slope.\n",
    "\n",
    "new_X = np.arange(-1,30).reshape(-1,1)\n",
    "prediction = model.predict(new_X) # creates an array with the predicted outputs.\n",
    "plt.figure()\n",
    "plt.title('Pizza price plotted against diameter')\n",
    "plt.xlabel('Diameter in inches')\n",
    "plt.ylabel('Price in dollars')\n",
    "plt.plot(X, y, 'k.') # plots the original data\n",
    "plt.plot(new_X, prediction, 'b')# plots the prediction line\n",
    "plt.axis([0,25,0,25])\n",
    "plt.grid(True)\n",
    "plt.show()\n",
    "\n",
    "# Predict the price of a pizza with a diameter that has never been seen before.\n",
    "test_pizza = np.array([[12]]) \n",
    "predicted_price = model.predict(test_pizza)\n",
    "print('A 12\" pizza should cost: $%.2f' % predicted_price)"
   ]
  },
  {
   "cell_type": "markdown",
   "metadata": {},
   "source": [
    "Note: Simple linear regression assumes that a linear relationship exists between the response variable (y - \"output\") and the\n",
    "explanatory variable (X - \"features\").\n",
    "\n",
    "---\n",
    "\n",
    "## <center> Evaluating the fitness of the model with a cost function\n",
    "In this example we only used a training set. The differences between the values predicted by the model and the ones observed in the training set are called $\\textbf{residuals}$ or $\\textbf{training error}$. These differences in the test set are called $\\textbf{prediction errors}$ or $\\textbf{test errors}$.\n",
    "The best set of parameters for our model is the that minimizes this residuals errors. There are some ways to measure this, but the most common is the Mean Square Error (MSE):<br>\n",
    "    <center> $MSE =\\frac{1}{n}\\sum_{i=1}^{n}(y^{(i)} - h_{\\theta}(x^{(i)}))^{2}$ <br>\n",
    "        $\\textbf{where:}$<br>\n",
    "        $\\textbf{n}$ = Number of examples<br>\n",
    "        $\\mathbf{h_{\\theta}(x^{(i)})}$ = prediction of the i$^{th}$ example<br>\n",
    "        \n",
    "This function represents cost function, the one we want to minimize. The cost function is often represented as:<br><br>\n",
    "<center>$J(\\theta) = \\frac{1}{n}\\sum_{i=1}^{n}(h_{\\theta}(x^{(i)})-y^{(i)})^{2}$\n",
    "    \n",
    "Obs: This representation of the cost function is the one used in the [machine learning](https://www.coursera.org/learn/machine-learning/) course from Coursera."
   ]
  },
  {
   "cell_type": "code",
   "execution_count": 4,
   "metadata": {},
   "outputs": [
    {
     "name": "stdout",
     "output_type": "stream",
     "text": [
      "MSE: 1.75\n",
      "Mean squared error(sklearn): 1.75\n"
     ]
    }
   ],
   "source": [
    "# print the residuals\n",
    "print('MSE: %.2f' % np.mean((model.predict(X) - y) ** 2))\n",
    "\n",
    "# using the scikit-learn MSE implementation\n",
    "print('Mean squared error(sklearn): %.2f' % mean_squared_error(y, model.predict(X)))\n"
   ]
  },
  {
   "cell_type": "markdown",
   "metadata": {},
   "source": [
    "## <center> Solving OLS for Linear Regression\n",
    "Simple linear regression is given by the equation: $y=\\alpha + \\beta X$ and its goal is to solve for the values of $\\beta$ and $\\alpha$ to minimize the cost function.\n",
    "we start solving for $\\beta$.\n",
    "    <center> $\\beta = \\frac{cov(x,y)}{var(x)}$ <br><br> $\\textbf{where:}$<br><br> $cov(x,y)$ is the covariance of x and y;<br>\n",
    "        $var(x)$ is the variance of x;\n",
    "- Covariance is a measure of how much two variables change together. The covariance is positive if the two variable increase\\decrease together. However, if while one variable increases while  the other decreases, the covariance is negative. If there is no linear relationship between the two variables, their covariance will be equal to zero; they are linearly uncorrelated but not necessarily independent. Covariance can be calculated using the following formula: \n",
    "<center>$cov(x,y) = \\frac{\\sum_{i=1}^{n} (x^{(i)}-\\bar{x})(y^{(i)}-\\bar{y})}{n-1}$<br><br> $\\textbf{where:}$<br><br>\n",
    "    $\\bar{x}$ is the mean of the values of x and $\\bar{y}$ is the mean of the values of y. "
   ]
  },
  {
   "cell_type": "code",
   "execution_count": 24,
   "metadata": {},
   "outputs": [
    {
     "name": "stdout",
     "output_type": "stream",
     "text": [
      "Covariance implementation:\n",
      "22.65\n",
      "NumPy covariance method:\n",
      "[[23.2  22.65]\n",
      " [22.65 24.3 ]]\n"
     ]
    }
   ],
   "source": [
    "#calculating the covariance\n",
    "\n",
    "#find the means of y and X\n",
    "x_bar = X.mean()\n",
    "y_bar = y.mean()\n",
    "\n",
    "# we transpose X because both operands must be row vectors\n",
    "# X.shape[0] and X.size are interchangeable for this purpose \n",
    "covariance = np.multiply((X - x_bar).transpose(), y - y_bar).sum() /(X.size - 1)\n",
    "\n",
    "# using the NumPy method\n",
    "cov_numpy = np.cov(X.T,y) \n",
    "print(\"Covariance implementation:\")\n",
    "print(covariance)\n",
    "print(\"NumPy covariance method:\")\n",
    "print(cov_numpy)\n",
    "# The numpy method returns the covariance matrix, but we can see in the matrix that the values showing the covariance \n",
    "# between X and y (element row=1 and column=0, and element row=0 and column=1) matches the one previously calculated"
   ]
  },
  {
   "cell_type": "markdown",
   "metadata": {},
   "source": [
    "- Variance is is a measure of how far a set of values are spread out. If all the numbers in the set are equal, the variance of the set is zero. A small variance indicates that the numbers are near the mean of the set, while a set containing numbers that are far from the mean and from each other will have a large variance. \n",
    "Variance can be calculated using the following equation:\n",
    "<center>$var(x) = \\frac{\\sum_{i=1}^{n}(x^{(i)}-\\bar{x})^{2}}{n-1}$\n",
    "    "
   ]
  },
  {
   "cell_type": "code",
   "execution_count": 29,
   "metadata": {},
   "outputs": [
    {
     "name": "stdout",
     "output_type": "stream",
     "text": [
      "Variance implementation: 23.2 vs Numpy var method: 23.2\n"
     ]
    }
   ],
   "source": [
    "# Calculating the variance\n",
    "\n",
    "# Note that we subtract one from the number of training instances when calculating the sample variance.\n",
    "# This technique is called Bessel's correction. It corrects the bias in the estimation of the population variance\n",
    "# from a sample.\n",
    "variance = ((X - x_bar)**2).sum() / (X.shape[0] - 1)\n",
    "\n",
    "#using numpy method\n",
    "# we use ddof = 1 to use the Bessel's correction in the numpy method\n",
    "var_numpy = np.var(X, ddof=1)\n",
    "\n",
    "print(\"Variance implementation: {} vs Numpy var method: {}\".format(variance, var_numpy))"
   ]
  },
  {
   "cell_type": "markdown",
   "metadata": {},
   "source": [
    "***\n",
    "Solving $\\beta$  (slope)\n",
    "\n",
    "***"
   ]
  },
  {
   "cell_type": "code",
   "execution_count": 36,
   "metadata": {},
   "outputs": [
    {
     "name": "stdout",
     "output_type": "stream",
     "text": [
      "beta:0.98\n"
     ]
    }
   ],
   "source": [
    "beta = covariance/variance\n",
    "print(\"beta:%.2f\" % beta)"
   ]
  },
  {
   "cell_type": "markdown",
   "metadata": {},
   "source": [
    "***\n",
    "With the value of $\\beta$, now we can solve $\\alpha$ (intercept) in the equation $\\alpha = \\bar{y} - \\bar{x} \\beta$.<br> ($\\bar{x},\\bar{y}$) are the coordinates of the centroid, a point that the\n",
    "model must pass through."
   ]
  },
  {
   "cell_type": "code",
   "execution_count": 39,
   "metadata": {},
   "outputs": [
    {
     "name": "stdout",
     "output_type": "stream",
     "text": [
      "alpha:1.97\n"
     ]
    }
   ],
   "source": [
    "alpha = y_bar - beta*x_bar\n",
    "print(\"alpha:%.2f\" % alpha)"
   ]
  },
  {
   "cell_type": "markdown",
   "metadata": {},
   "source": [
    "## <center> Evaluating the Model\n",
    "    \n",
    "There are several metrics that can be used to evaluated the performance of the this linear regression model. We are going to use **R-Squared** or **coefficient of determination**. R-Squared measures how close the data are from the regression line. There are several methods for calculating R-squared. In the case of simple linear regression, R-squared is equal to the square of the **Pearson product-moment correlation coefficient (PPMCC)**, or **Pearson's r**. Using this method, R-squared must\n",
    "be a positive number between zero and one.\n",
    "\n",
    "> Limitations:\n",
    "R-squared in particular is sensitive to outliers, and can spuriously increase when features are added to the model\n",
    "\n",
    "<center> $R^{2} =1 - \\frac{SS_{tot}}{SS_{res}}$<br>\n",
    "    $\\textbf{Where:}$<br><br>\n",
    "    $R^{2}$ = R-Squared or coeff. of determination<br>\n",
    "    $SS_{tot}$ = Total Sum of Squares (TSS) - it tells you how much variation there is in the dependent variable.<br><br>\n",
    "    <center>$SS_{tot}=\\sum_{i=1}^{n}(y^{(i)}-\\bar{y})^{2}$<br><br>\n",
    "    $SS_{res}$ = Residual Sum of Squares(RSS) - it tells you how much of the dependent variable’s variation your model $\\textbf{did not explain}$.<br><br>\n",
    "    <center>$SS_{res}=\\sum_{i=1}^{n}(y^{(i)}-h_{\\theta}(x^{(i)}))^{2}$\n",
    "\n"
   ]
  },
  {
   "cell_type": "code",
   "execution_count": 66,
   "metadata": {},
   "outputs": [
    {
     "name": "stdout",
     "output_type": "stream",
     "text": [
      "R2: 0.662 and r_squared: 0.662\n"
     ]
    }
   ],
   "source": [
    "# First let divide our data into train and test data \n",
    "# training data(it is the one we already used to trained the model)\n",
    "X_train = X\n",
    "y_train = y\n",
    "\n",
    "# test data\n",
    "X_test = np.array([8, 9, 11, 16, 12]).reshape(-1, 1)\n",
    "y_test = np.array([11, 8.5, 15, 18, 11])\n",
    "\n",
    "model = LinearRegression()\n",
    "model.fit(X_train,y_train)\n",
    "y_predict = model.predict(X_test)\n",
    "TSS = np.sum((y_test-y_test.mean())**2)\n",
    "RSS = np.sum((y_test-y_predict)**2)\n",
    "R2 = 1-(RSS/TSS)\n",
    "\n",
    "# using the sklearn method\n",
    "r_squared = model.score(X_test, y_test)\n",
    "print(\"R2: %0.3f and r_squared: %0.3f\"% (R2, r_squared))"
   ]
  },
  {
   "cell_type": "markdown",
   "metadata": {},
   "source": [
    "## Now let's try this in a real model "
   ]
  }
 ],
 "metadata": {
  "kernelspec": {
   "display_name": "Python 3",
   "language": "python",
   "name": "python3"
  },
  "language_info": {
   "codemirror_mode": {
    "name": "ipython",
    "version": 3
   },
   "file_extension": ".py",
   "mimetype": "text/x-python",
   "name": "python",
   "nbconvert_exporter": "python",
   "pygments_lexer": "ipython3",
   "version": "3.7.4"
  }
 },
 "nbformat": 4,
 "nbformat_minor": 2
}
