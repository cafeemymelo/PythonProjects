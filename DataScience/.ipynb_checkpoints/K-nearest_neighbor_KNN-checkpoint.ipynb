{
 "cells": [
  {
   "cell_type": "code",
   "execution_count": 2,
   "metadata": {},
   "outputs": [],
   "source": [
    "# import section -- Must run this cell before anything\n",
    "import sklearn as sk\n",
    "from sklearn.linear_model import LinearRegression\n",
    "from sklearn.metrics import mean_squared_error, r2_score\n",
    "import numpy as np\n",
    "import matplotlib.pyplot as plt\n",
    "from numpy.linalg import inv\n",
    "%matplotlib inline"
   ]
  },
  {
   "cell_type": "markdown",
   "metadata": {},
   "source": [
    "## <center> Classification using KNN\n",
    "    \n",
    "Example: Classify a person sex based on his/hers height and weight\n"
   ]
  },
  {
   "cell_type": "code",
   "execution_count": 4,
   "metadata": {},
   "outputs": [
    {
     "ename": "IndentationError",
     "evalue": "expected an indented block (<ipython-input-4-382051c550f6>, line 23)",
     "output_type": "error",
     "traceback": [
      "\u001b[1;36m  File \u001b[1;32m\"<ipython-input-4-382051c550f6>\"\u001b[1;36m, line \u001b[1;32m23\u001b[0m\n\u001b[1;33m    plt.scatter(x[0], x[1], c='k', marker='x' if y_train[i] == 'male' else 'D')\u001b[0m\n\u001b[1;37m      ^\u001b[0m\n\u001b[1;31mIndentationError\u001b[0m\u001b[1;31m:\u001b[0m expected an indented block\n"
     ]
    }
   ],
   "source": [
    "# creating the feature training set (height and weight)\n",
    "X_train = np.array([\n",
    "[158, 64],\n",
    "[170, 86],\n",
    "[183, 84],\n",
    "[191, 80],\n",
    "[155, 49],\n",
    "[163, 59],\n",
    "[180, 67],\n",
    "[158, 54],\n",
    "[170, 67]\n",
    "])\n",
    "# creating the response variable\n",
    "y_train = ['male', 'male', 'male', 'male', 'female', 'female', 'female',\n",
    "'female', 'female']\n",
    "\n",
    "plt.figure()\n",
    "plt.title('Human Heights and Weights by Sex')\n",
    "plt.xlabel('Height in cm')\n",
    "plt.ylabel('Weight in kg')\n",
    "for i, x in enumerate(X_train):\n",
    "    # Use 'x' markers for instances that are male and diamond markers for instances that are female\n",
    "    plt.scatter(x[0], x[1], c='k', marker='x' if y_train[i] == 'male' else 'D')\n",
    "plt.grid(True)\n",
    "plt.show()"
   ]
  }
 ],
 "metadata": {
  "kernelspec": {
   "display_name": "Python 3",
   "language": "python",
   "name": "python3"
  },
  "language_info": {
   "codemirror_mode": {
    "name": "ipython",
    "version": 3
   },
   "file_extension": ".py",
   "mimetype": "text/x-python",
   "name": "python",
   "nbconvert_exporter": "python",
   "pygments_lexer": "ipython3",
   "version": "3.7.4"
  }
 },
 "nbformat": 4,
 "nbformat_minor": 2
}
