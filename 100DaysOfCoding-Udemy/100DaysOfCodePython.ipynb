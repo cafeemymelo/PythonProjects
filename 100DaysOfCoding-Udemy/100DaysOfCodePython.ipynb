{
 "cells": [
  {
   "cell_type": "markdown",
   "id": "3e1d56f2",
   "metadata": {},
   "source": [
    "# 100 Days of Code >> Python"
   ]
  },
  {
   "cell_type": "markdown",
   "id": "151a0dd9",
   "metadata": {},
   "source": [
    "## Day 1 - Beginner Level\n",
    "**Main concepts learned:**\n",
    "* How to work with variables in Python;\n",
    "* String manipulation - Concatination of strings;\n",
    "* Input function;\n",
    "* Variable naming;\n",
    "\n",
    "### Day 1 project: Band Name Generator"
   ]
  },
  {
   "cell_type": "code",
   "execution_count": 11,
   "id": "bad22fec",
   "metadata": {
    "scrolled": true
   },
   "outputs": [
    {
     "name": "stdout",
     "output_type": "stream",
     "text": [
      "\t\tWelcome to your Band Name Generator!\n",
      "\n",
      "Please follow the instructions below to generate the name of your band\n",
      "Please, enter the name of the city you grew up in.\n",
      "itAPEVa\n",
      "Now, please enter the name of your pet.\n",
      "ASTOR\n",
      "Your band name is Itapeva Astor\n"
     ]
    }
   ],
   "source": [
    "print(\"\\t\\tWelcome to your Band Name Generator!\\n\\nPlease follow the instructions below to generate the name of your band\")\n",
    "city_name = input(\"Please, enter the name of the city you grew up in.\\n\")\n",
    "pets_name = input(\"Now, please enter the name of your pet.\\n\")\n",
    "band_name = city_name.lower().capitalize() + \" \" + pets_name.lower().capitalize()\n",
    "print(f'Your band name is {band_name}')"
   ]
  },
  {
   "cell_type": "markdown",
   "id": "dc9dadd9",
   "metadata": {},
   "source": [
    "## Day 2 - Beginner Level\n",
    "**Main concepts learned:**\n",
    "* Python primitive data type;\n",
    "* Type Error, type checking, and type conversion - how to identify and handle errors (stackoverflow 101);\n",
    "* Mathematical operations in python - Precedence of Python Operators;\n",
    "* Number manipulation and f string;\n",
    "\n",
    "### Day 2 project: Tip Calculator"
   ]
  },
  {
   "cell_type": "code",
   "execution_count": 3,
   "id": "751a930e",
   "metadata": {},
   "outputs": [
    {
     "name": "stdout",
     "output_type": "stream",
     "text": [
      "\t\tWelcome to the tip calculator!\n",
      "What was the total bill? £124.56\n",
      "What percentage tip would you like to give? 10,12, or 15? 12\n",
      "How many people to split the bill? 7\n",
      "Each person should pay: £19.93\n"
     ]
    }
   ],
   "source": [
    "print(\"\\t\\tWelcome to the tip calculator!\")\n",
    "total_amount = float(input(\"What was the total bill? £\"))\n",
    "tip = float(input(\"What percentage tip would you like to give? 10,12, or 15? \"))/100\n",
    "total_people = int(input(\"How many people to split the bill? \"))\n",
    "final_amount_per_person = round((total_amount*(1+tip))/total_people,2)\n",
    "print(f\"Each person should pay: £{final_amount_per_person}\")"
   ]
  },
  {
   "cell_type": "markdown",
   "id": "802120d5",
   "metadata": {},
   "source": [
    "## Day 3 - Beginner Level\n",
    "**Main concepts learned:**\n",
    "* If/ Elif and Else statements - Control flow and conditional operators;\n",
    "* Intro to modulo;\n",
    "* Nested if statements;\n",
    "* Logical operators;\n",
    "\n",
    "### Day 3 project: Treasure Island "
   ]
  },
  {
   "cell_type": "code",
   "execution_count": 6,
   "id": "9a8eb6a0",
   "metadata": {},
   "outputs": [
    {
     "name": "stdout",
     "output_type": "stream",
     "text": [
      "\n",
      "*******************************************************************************\n",
      "          |                   |                  |                     |\n",
      " _________|________________.=\"\"_;=.______________|_____________________|_______\n",
      "|                   |  ,-\"_,=\"\"     `\"=.|                  |\n",
      "|___________________|__\"=._o`\"-._        `\"=.______________|___________________\n",
      "          |                `\"=._o`\"=._      _`\"=._                     |\n",
      " _________|_____________________:=._o \"=._.\"_.-=\"'\"=.__________________|_______\n",
      "|                   |    __.--\" , ; `\"=._o.\" ,-\"\"\"-._ \".   |\n",
      "|___________________|_._\"  ,. .` ` `` ,  `\"-._\"-._   \". '__|___________________\n",
      "          |           |o`\"=._` , \"` `; .\". ,  \"-._\"-._; ;              |\n",
      " _________|___________| ;`-.o`\"=._; .\" ` '`.\"\\` . \"-._ /_______________|_______\n",
      "|                   | |o;    `\"-.o`\"=._``  '` \" ,__.--o;   |\n",
      "|___________________|_| ;     (#) `-.o `\"=.`_.--\"_o.-; ;___|___________________\n",
      "____/______/______/___|o;._    \"      `\".o|o_.--\"    ;o;____/______/______/____\n",
      "/______/______/______/_\"=._o--._        ; | ;        ; ;/______/______/______/_\n",
      "____/______/______/______/__\"=._o--._   ;o|o;     _._;o;____/______/______/____\n",
      "/______/______/______/______/____\"=._o._; | ;_.--\"o.--\"_/______/______/______/_\n",
      "____/______/______/______/______/_____\"=.o|o_.--\"\"___/______/______/______/____\n",
      "/______/______/______/______/______/______/______/______/______/______/_____ /\n",
      "*******************************************************************************\n",
      "\n",
      "Welcome to Treasure Island.\n",
      "Your mission is to find the treasure.\n",
      "Which direction would like to check first, 'left' or 'right'? Type 'left' to go left or 'right' to go right. \n",
      "left\n",
      "Great choice. You arrived at a lake. Would you like to 'swim' or 'wait' for a boat?\n",
      "wait\n",
      "Great choice. You arrived at three doors, the first one is 'Blue', the second one is 'Yellow',         and the last one is 'Red'. Which door you choose?\n",
      "yellow\n",
      " \n",
      "              .-=========-.\n",
      "              '-=======-'/\n",
      "              _|   .=.   |_\n",
      "             ((|  {{1}}  |))\n",
      "              \\|   /|\\   |/\n",
      "               \\__ '`' __/\n",
      "                 _`) (`_\n",
      "               _/_______\\_\n",
      "              /___________              \n",
      "Congratulations. You found the treasure. You won.\n"
     ]
    }
   ],
   "source": [
    "# ASC art from -> https://ascii.co.uk/art\n",
    "# FLowchart for this project can be found here -> \n",
    "#https://www.draw.io/?lightbox=1&highlight=0000ff&edit=_blank&layers=1&nav=1&title=Treasure%20Island%20Conditional.drawio#Uhttps%3A%2F%2Fdrive.google.com%2Fuc%3Fid%3D1oDe4ehjWZipYRsVfeAx2HyB7LCQ8_Fvi%26export%3Ddownload\n",
    "print('''\n",
    "*******************************************************************************\n",
    "          |                   |                  |                     |\n",
    " _________|________________.=\"\"_;=.______________|_____________________|_______\n",
    "|                   |  ,-\"_,=\"\"     `\"=.|                  |\n",
    "|___________________|__\"=._o`\"-._        `\"=.______________|___________________\n",
    "          |                `\"=._o`\"=._      _`\"=._                     |\n",
    " _________|_____________________:=._o \"=._.\"_.-=\"'\"=.__________________|_______\n",
    "|                   |    __.--\" , ; `\"=._o.\" ,-\"\"\"-._ \".   |\n",
    "|___________________|_._\"  ,. .` ` `` ,  `\"-._\"-._   \". '__|___________________\n",
    "          |           |o`\"=._` , \"` `; .\". ,  \"-._\"-._; ;              |\n",
    " _________|___________| ;`-.o`\"=._; .\" ` '`.\"\\` . \"-._ /_______________|_______\n",
    "|                   | |o;    `\"-.o`\"=._``  '` \" ,__.--o;   |\n",
    "|___________________|_| ;     (#) `-.o `\"=.`_.--\"_o.-; ;___|___________________\n",
    "____/______/______/___|o;._    \"      `\".o|o_.--\"    ;o;____/______/______/____\n",
    "/______/______/______/_\"=._o--._        ; | ;        ; ;/______/______/______/_\n",
    "____/______/______/______/__\"=._o--._   ;o|o;     _._;o;____/______/______/____\n",
    "/______/______/______/______/____\"=._o._; | ;_.--\"o.--\"_/______/______/______/_\n",
    "____/______/______/______/______/_____\"=.o|o_.--\"\"___/______/______/______/____\n",
    "/______/______/______/______/______/______/______/______/______/______/_____ /\n",
    "*******************************************************************************\n",
    "''')\n",
    "print(\"Welcome to Treasure Island.\")\n",
    "print(\"Your mission is to find the treasure.\") \n",
    "\n",
    "action = input(\"Which direction would like to check first, 'left' or 'right'? Type 'left' to go left or 'right' to go right. \\n\").lower()\n",
    "if action == 'left':\n",
    "    action = input(\"Great choice. You arrived at a lake. Would you like to 'swim' or 'wait' for a boat?\\n\").lower()\n",
    "    if action == 'wait':\n",
    "        action = input(\"Great choice. You arrived at three doors, the first one is 'Blue', the second one is 'Yellow', \\\n",
    "        and the last one is 'Red'. Which door you choose?\\n\").lower()\n",
    "        if action == 'red':\n",
    "            print(\"Sorry, wrong choice. You were burned by fire. Game Over.\")\n",
    "        if action == 'blue':\n",
    "            print(\"Sorry, wrong choice. You were eaten by beasts. Game Over.\")\n",
    "        if action == 'yellow':\n",
    "            print(''' \n",
    "              .-=========-.\n",
    "              \\'-=======-'/\n",
    "              _|   .=.   |_\n",
    "             ((|  {{1}}  |))\n",
    "              \\|   /|\\   |/\n",
    "               \\__ '`' __/\n",
    "                 _`) (`_\n",
    "               _/_______\\_\n",
    "              /___________\\\n",
    "              ''')\n",
    "            print(\"Congratulations. You found the treasure. You won.\")\n",
    "        else:\n",
    "            print(\"Game over\")\n",
    "    else:\n",
    "        print(\"Sorry, wrong choice. You were attacked by a Trout. Game Over.\")\n",
    "else:\n",
    "    print('Sorry, wrong way. You fell into a hole. Game Over.')"
   ]
  },
  {
   "cell_type": "markdown",
   "id": "2fcff9ad",
   "metadata": {},
   "source": [
    "## Day 4 - Beginner Level\n",
    "**Main concepts learned:**\n",
    "* Randomization and Python lists;"
   ]
  },
  {
   "cell_type": "code",
   "execution_count": 1,
   "id": "a288c325",
   "metadata": {},
   "outputs": [
    {
     "name": "stdout",
     "output_type": "stream",
     "text": [
      "Create a seed number: 2345\n",
      "Heads\n"
     ]
    }
   ],
   "source": [
    "#HEADS AND TAILS EXERCISE\n",
    "#Remember to use the random module\n",
    "#Hint: Remember to import the random module here at the top of the file. 🎲\n",
    "import random \n",
    "# 🚨 Don't change the code below 👇\n",
    "test_seed = int(input(\"Create a seed number: \"))\n",
    "random.seed(test_seed)\n",
    " # 🚨 Don't change the code above 👆 It's only for testing your code.\n",
    "\t \n",
    "#Write the rest of your code below this line 👇\n",
    "coin_toss = random.randint(0,1)\n",
    "if coin_toss == 0:\n",
    "    print(\"Tails\")\n",
    "elif coin_toss == 1:\n",
    "    print(\"Heads\")\n",
    "else:\n",
    "    print(\"Something went wrong!!!\")"
   ]
  },
  {
   "cell_type": "markdown",
   "id": "a7bd663e",
   "metadata": {},
   "source": [
    "* Offset and appending items to lists"
   ]
  },
  {
   "cell_type": "code",
   "execution_count": 1,
   "id": "137a546c",
   "metadata": {},
   "outputs": [
    {
     "name": "stdout",
     "output_type": "stream",
     "text": [
      "Create a seed number: 234\n",
      "Give me everybody's names, separated by a comma. Carlos, Lara, ROberto\n",
      "Lara is going to buy the meal today!\n"
     ]
    }
   ],
   "source": [
    "#BANKER ROULLETE\n",
    "#--> You are going to write a program that will select a random name from a list of names. \n",
    "#    The person selected will have to pay for everybody's food bill.\n",
    "import random\n",
    "\n",
    "test_seed = int(input(\"Create a seed number: \"))\n",
    "random.seed(test_seed)\n",
    "\n",
    "names_string = input(\"Give me everybody's names, separated by a comma. \")\n",
    "names = names_string.split(\", \")\n",
    "\n",
    "number_of_people = len(names)\n",
    "indice = random.randint(0,number_of_people - 1)\n",
    "print(f'{names[indice]} is going to buy the meal today!')"
   ]
  },
  {
   "cell_type": "markdown",
   "id": "65d027b4",
   "metadata": {},
   "source": [
    "* IndexError and Nested List"
   ]
  },
  {
   "cell_type": "code",
   "execution_count": 2,
   "id": "a840534e",
   "metadata": {},
   "outputs": [
    {
     "name": "stdout",
     "output_type": "stream",
     "text": [
      "['⬜️', '️⬜️', '️⬜️']\n",
      "['⬜️', '⬜️', '️⬜️']\n",
      "['⬜️️', '⬜️️', '⬜️️']\n",
      "Where do you want to put the treasure? 23\n",
      "['⬜️', '️⬜️', '️⬜️']\n",
      "['⬜️', '⬜️', '️⬜️']\n",
      "['⬜️️', 'X', '⬜️️']\n"
     ]
    }
   ],
   "source": [
    "\"\"\"\n",
    "TREASURE MAP\n",
    "You are going to write a program that will mark a spot with an X.\n",
    "\"\"\"\n",
    "\n",
    "row1 = [\"⬜️\",\"️⬜️\",\"️⬜️\"]\n",
    "row2 = [\"⬜️\",\"⬜️\",\"️⬜️\"]\n",
    "row3 = [\"⬜️️\",\"⬜️️\",\"⬜️️\"]\n",
    "map = [row1, row2, row3]\n",
    "print(f\"{row1}\\n{row2}\\n{row3}\")\n",
    "position = input(\"Where do you want to put the treasure? \")\n",
    "\n",
    "column = int(position[0]) - 1\n",
    "row = int(position[1]) -1 \n",
    "map[row][column]='X'\n",
    "\n",
    "print(f\"{row1}\\n{row2}\\n{row3}\")"
   ]
  },
  {
   "cell_type": "markdown",
   "id": "d6e82e28",
   "metadata": {},
   "source": [
    "### Day 4 project: Rock Paper Scissors"
   ]
  },
  {
   "cell_type": "code",
   "execution_count": 12,
   "id": "013899e8",
   "metadata": {},
   "outputs": [
    {
     "name": "stdout",
     "output_type": "stream",
     "text": [
      "What do you choose? Type 0 for Rock, 1 for Paper or 2 for Scissors. \n",
      "1\n",
      "You chose:\n",
      "\n",
      "\n",
      "    _______\n",
      "---'   ____)____\n",
      "          ______)\n",
      "          _______)\n",
      "         _______)\n",
      "---.__________)\n",
      "\n",
      "Computer chose:\n",
      "\n",
      "\n",
      "    _______\n",
      "---'   ____)\n",
      "      (_____)\n",
      "      (_____)\n",
      "      (____)\n",
      "---.__(___)\n",
      "\n",
      "You win!!\n"
     ]
    }
   ],
   "source": [
    "import random \n",
    "rock = '''\n",
    "    _______\n",
    "---'   ____)\n",
    "      (_____)\n",
    "      (_____)\n",
    "      (____)\n",
    "---.__(___)\n",
    "'''\n",
    "\n",
    "paper = '''\n",
    "    _______\n",
    "---'   ____)____\n",
    "          ______)\n",
    "          _______)\n",
    "         _______)\n",
    "---.__________)\n",
    "'''\n",
    "\n",
    "scissors = '''\n",
    "    _______\n",
    "---'   ____)____\n",
    "          ______)\n",
    "       __________)\n",
    "      (____)\n",
    "---.__(___)\n",
    "'''\n",
    "random.seed(234)\n",
    "possible_moves = [rock,paper,scissors]\n",
    "\n",
    "user_move = int(input('What do you choose? Type 0 for Rock, 1 for Paper or 2 for Scissors. \\n'))\n",
    "print('You chose:\\n')\n",
    "print(possible_moves[user_move])\n",
    "computer_move = user_move\n",
    "while computer_move == user_move:\n",
    "    computer_move = random.randint(0,2)\n",
    "print('Computer chose:\\n')\n",
    "print(possible_moves[computer_move])\n",
    "\n",
    "if(user_move == computer_move):\n",
    "    print(\"It's a draw!!!You both win (or you both lose - if you are 'the glass half empty' type of person! )\")\n",
    "elif( (user_move == 0 and computer_move == 1) or (user_move == 1 and computer_move == 2) \n",
    "     or (user_move == 2 and computer_move == 0)):\n",
    "    print(\"You lose!!\")\n",
    "else:\n",
    "    print(\"You win!!\")"
   ]
  },
  {
   "cell_type": "markdown",
   "id": "03c8b39f",
   "metadata": {},
   "source": [
    "## Day 5 - Beginner Level\n",
    "**Main concepts learned:**\n",
    "* Loops with Python;"
   ]
  },
  {
   "cell_type": "code",
   "execution_count": 4,
   "id": "9b6b4e52",
   "metadata": {},
   "outputs": [
    {
     "name": "stdout",
     "output_type": "stream",
     "text": [
      "Input a list of student heights separated by single space156 178 165 171 187\n",
      "171\n"
     ]
    }
   ],
   "source": [
    "#Exercise 1 - Average Height\n",
    "#Do not use sum() or len() functions. Replicate their functionality using for loop\n",
    "student_heights = input(\"Input a list of student heights separated by single space\").split()\n",
    "for n in range(0, len(student_heights)):\n",
    "  student_heights[n] = int(student_heights[n])\n",
    "\n",
    "size = 0\n",
    "total = 0\n",
    "for n in student_heights:\n",
    "    size += 1\n",
    "    total += n\n",
    "average = round(total/size)\n",
    "print(average)"
   ]
  },
  {
   "cell_type": "code",
   "execution_count": null,
   "id": "dee7b9a9",
   "metadata": {},
   "outputs": [],
   "source": [
    "# Exercise 2 - High Score \n",
    "# write a program that calculates the highest score from a List of scores\n",
    "student_scores = input(\"Input a list of student scores \").split()\n",
    "for n in range(0, len(student_scores)):\n",
    "  student_scores[n] = int(student_scores[n])\n",
    "print(student_scores)\n",
    "\n",
    "highest_score = -1\n",
    "for score in student_scores:\n",
    "    if score > highest_score:\n",
    "        highest_score = score\n",
    "print(f'The highest score in the class is: {highest_score}')"
   ]
  },
  {
   "cell_type": "markdown",
   "id": "7109e30e",
   "metadata": {},
   "source": [
    "* For loop and range() function;"
   ]
  },
  {
   "cell_type": "code",
   "execution_count": 5,
   "id": "779b30c0",
   "metadata": {},
   "outputs": [
    {
     "name": "stdout",
     "output_type": "stream",
     "text": [
      "2550\n"
     ]
    }
   ],
   "source": [
    "# Exercise 3 - Adding Even Numbers \n",
    "total = 0\n",
    "for number in range(1,101):\n",
    "    if number % 2 == 0:\n",
    "        total += number\n",
    "print(total)"
   ]
  },
  {
   "cell_type": "code",
   "execution_count": 6,
   "id": "21c1f536",
   "metadata": {},
   "outputs": [
    {
     "name": "stdout",
     "output_type": "stream",
     "text": [
      "1\n",
      "2\n",
      "Fizz\n",
      "4\n",
      "Buzz\n",
      "Fizz\n",
      "7\n",
      "8\n",
      "Fizz\n",
      "Buzz\n",
      "11\n",
      "Fizz\n",
      "13\n",
      "14\n",
      "FizzBuzz\n",
      "16\n",
      "17\n",
      "Fizz\n",
      "19\n",
      "Buzz\n",
      "Fizz\n",
      "22\n",
      "23\n",
      "Fizz\n",
      "Buzz\n",
      "26\n",
      "Fizz\n",
      "28\n",
      "29\n",
      "FizzBuzz\n",
      "31\n",
      "32\n",
      "Fizz\n",
      "34\n",
      "Buzz\n",
      "Fizz\n",
      "37\n",
      "38\n",
      "Fizz\n",
      "Buzz\n",
      "41\n",
      "Fizz\n",
      "43\n",
      "44\n",
      "FizzBuzz\n",
      "46\n",
      "47\n",
      "Fizz\n",
      "49\n",
      "Buzz\n",
      "Fizz\n",
      "52\n",
      "53\n",
      "Fizz\n",
      "Buzz\n",
      "56\n",
      "Fizz\n",
      "58\n",
      "59\n",
      "FizzBuzz\n",
      "61\n",
      "62\n",
      "Fizz\n",
      "64\n",
      "Buzz\n",
      "Fizz\n",
      "67\n",
      "68\n",
      "Fizz\n",
      "Buzz\n",
      "71\n",
      "Fizz\n",
      "73\n",
      "74\n",
      "FizzBuzz\n",
      "76\n",
      "77\n",
      "Fizz\n",
      "79\n",
      "Buzz\n",
      "Fizz\n",
      "82\n",
      "83\n",
      "Fizz\n",
      "Buzz\n",
      "86\n",
      "Fizz\n",
      "88\n",
      "89\n",
      "FizzBuzz\n",
      "91\n",
      "92\n",
      "Fizz\n",
      "94\n",
      "Buzz\n",
      "Fizz\n",
      "97\n",
      "98\n",
      "Fizz\n",
      "Buzz\n"
     ]
    }
   ],
   "source": [
    "# Exercise 4 - FizzBuzz\n",
    "\"\"\"\n",
    "write a program that automatically prints the solution to the FizzBuzz game.\n",
    "\n",
    "The program should print each number from 1 to 100 in turn.\n",
    "When the number is divisible by 3 then instead of printing the number it should print \"Fizz\".\n",
    "When the number is divisible by 5, then instead of printing the number it should print \"Buzz\".`\n",
    "And if the number is divisible by both 3 and 5 e.g. 15 then instead of the number it should print \"FizzBuzz\"\n",
    "\n",
    "\"\"\"\n",
    "for number in range(1,101):\n",
    "    if (number%3 == 0) and (number%5 == 0):\n",
    "        print('FizzBuzz')\n",
    "    elif(number%3 == 0):\n",
    "        print('Fizz')\n",
    "    elif(number%5 == 0):\n",
    "        print('Buzz')\n",
    "    else:\n",
    "        print(number)"
   ]
  },
  {
   "cell_type": "markdown",
   "id": "050a1ba8",
   "metadata": {},
   "source": [
    "### Day 5 project: Password Generator"
   ]
  },
  {
   "cell_type": "code",
   "execution_count": 13,
   "id": "d220c1a0",
   "metadata": {},
   "outputs": [
    {
     "name": "stdout",
     "output_type": "stream",
     "text": [
      "Welcome to the PyPassword Generator!\n",
      "How many letters would you like in your password?\n",
      "2\n",
      "How many symbols would you like?\n",
      "2\n",
      "How many numbers would you like?\n",
      "2\n",
      "7$+8kF\n",
      "1\n"
     ]
    }
   ],
   "source": [
    "import random\n",
    "letters = ['a', 'b', 'c', 'd', 'e', 'f', 'g', 'h', 'i', 'j', 'k', 'l', 'm', 'n', 'o', 'p', 'q', 'r', 's', 't', 'u', 'v', 'w', 'x', 'y', 'z', 'A', 'B', 'C', 'D', 'E', 'F', 'G', 'H', 'I', 'J', 'K', 'L', 'M', 'N', 'O', 'P', 'Q', 'R', 'S', 'T', 'U', 'V', 'W', 'X', 'Y', 'Z']\n",
    "numbers = ['0', '1', '2', '3', '4', '5', '6', '7', '8', '9']\n",
    "symbols = ['!', '#', '$', '%', '&', '(', ')', '*', '+']\n",
    "\n",
    "print(\"Welcome to the PyPassword Generator!\")\n",
    "nr_letters= int(input(\"How many letters would you like in your password?\\n\")) \n",
    "nr_symbols = int(input(f\"How many symbols would you like?\\n\"))\n",
    "nr_numbers = int(input(f\"How many numbers would you like?\\n\"))\n",
    "password = ''\n",
    "limiter = 0\n",
    "while (nr_letters > 0) or (nr_symbols > 0) or (nr_numbers > 0) or \\\n",
    "(limiter < (10000 * (nr_letters + nr_symbols + nr_numbers))):\n",
    "    choice = random.choice('lns')\n",
    "    if choice == 'l' and nr_letters > 0:\n",
    "        password += letters[random.randint(0, len(letters)-1)]\n",
    "        nr_letters -= 1\n",
    "    elif choice == 's' and nr_symbols > 0:\n",
    "        password += symbols[random.randint(0, len(symbols)-1)]\n",
    "        nr_symbols -= 1\n",
    "    elif choice == 'n' and nr_numbers > 0:\n",
    "        password += numbers[random.randint(0, len(numbers)-1)]\n",
    "        nr_numbers -= 1\n",
    "    else:\n",
    "        limiter += 1\n",
    "print(password)\n",
    "print(limiter)"
   ]
  }
 ],
 "metadata": {
  "kernelspec": {
   "display_name": "Python 3 (ipykernel)",
   "language": "python",
   "name": "python3"
  },
  "language_info": {
   "codemirror_mode": {
    "name": "ipython",
    "version": 3
   },
   "file_extension": ".py",
   "mimetype": "text/x-python",
   "name": "python",
   "nbconvert_exporter": "python",
   "pygments_lexer": "ipython3",
   "version": "3.9.12"
  }
 },
 "nbformat": 4,
 "nbformat_minor": 5
}
