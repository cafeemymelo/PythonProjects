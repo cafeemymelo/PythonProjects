{
 "cells": [
  {
   "cell_type": "markdown",
   "id": "3e1d56f2",
   "metadata": {},
   "source": [
    "# 100 Days of Code >> Python"
   ]
  },
  {
   "cell_type": "markdown",
   "id": "151a0dd9",
   "metadata": {},
   "source": [
    "## Day 1 project: Band Name Generator"
   ]
  },
  {
   "cell_type": "code",
   "execution_count": 11,
   "id": "bad22fec",
   "metadata": {},
   "outputs": [
    {
     "name": "stdout",
     "output_type": "stream",
     "text": [
      "\t\tWelcome to your Band Name Generator!\n",
      "\n",
      "Please follow the instructions below to generate the name of your band\n",
      "Please, enter the name of the city you grew up in.\n",
      "itAPEVa\n",
      "Now, please enter the name of your pet.\n",
      "ASTOR\n",
      "Your band name is Itapeva Astor\n"
     ]
    }
   ],
   "source": [
    "print(\"\\t\\tWelcome to your Band Name Generator!\\n\\nPlease follow the instructions below to generate the name of your band\")\n",
    "city_name = input(\"Please, enter the name of the city you grew up in.\\n\")\n",
    "pets_name = input(\"Now, please enter the name of your pet.\\n\")\n",
    "band_name = city_name.lower().capitalize() + \" \" + pets_name.lower().capitalize()\n",
    "print(f'Your band name is {band_name}')"
   ]
  },
  {
   "cell_type": "markdown",
   "id": "dc9dadd9",
   "metadata": {},
   "source": [
    "## Day 2 project: Tip Calculator"
   ]
  },
  {
   "cell_type": "code",
   "execution_count": 3,
   "id": "751a930e",
   "metadata": {},
   "outputs": [
    {
     "name": "stdout",
     "output_type": "stream",
     "text": [
      "\t\tWelcome to the tip calculator!\n",
      "What was the total bill? £124.56\n",
      "What percentage tip would you like to give? 10,12, or 15? 12\n",
      "How many people to split the bill? 7\n",
      "Each person should pay: £19.93\n"
     ]
    }
   ],
   "source": [
    "print(\"\\t\\tWelcome to the tip calculator!\")\n",
    "total_amount = float(input(\"What was the total bill? £\"))\n",
    "tip = float(input(\"What percentage tip would you like to give? 10,12, or 15? \"))/100\n",
    "total_people = int(input(\"How many people to split the bill? \"))\n",
    "final_amount_per_person = round((total_amount*(1+tip))/total_people,2)\n",
    "print(f\"Each person should pay: £{final_amount_per_person}\")"
   ]
  }
 ],
 "metadata": {
  "kernelspec": {
   "display_name": "Python 3 (ipykernel)",
   "language": "python",
   "name": "python3"
  },
  "language_info": {
   "codemirror_mode": {
    "name": "ipython",
    "version": 3
   },
   "file_extension": ".py",
   "mimetype": "text/x-python",
   "name": "python",
   "nbconvert_exporter": "python",
   "pygments_lexer": "ipython3",
   "version": "3.9.12"
  }
 },
 "nbformat": 4,
 "nbformat_minor": 5
}
