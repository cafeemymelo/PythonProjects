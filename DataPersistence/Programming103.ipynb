{
 "cells": [
  {
   "cell_type": "markdown",
   "metadata": {
    "colab_type": "text",
    "id": "wcxXp7wDVImD"
   },
   "source": [
    "# <center>Course: Programming 103: Saving and Structuring Data \n",
    "# <center>From: Raspberry Foundation \n",
    "# <center>Available at: www.futurelearn.com \n",
    "## <center>Date: 14/06/2020"
   ]
  },
  {
   "cell_type": "markdown",
   "metadata": {
    "colab": {},
    "colab_type": "code",
    "id": "m_QzvNeTOcka"
   },
   "source": [
    "---\n",
    "## <Center> Week 1    "
   ]
  },
  {
   "cell_type": "markdown",
   "metadata": {
    "colab_type": "text",
    "id": "MTdxa3LweQ2B"
   },
   "source": [
    "---\n",
    "### <center>Writing in a File\n",
    "---"
   ]
  },
  {
   "cell_type": "code",
   "execution_count": null,
   "metadata": {
    "colab": {},
    "colab_type": "code",
    "id": "HZ6b3otbOKLa"
   },
   "outputs": [],
   "source": [
    "\n",
    "f = open(\"names.txt\", \"w\") # opens a file with the name 'names.txt' in writting  \n",
    "#mode. If the file doesn't exists then the open function creates the file.\n",
    "name = input(\"Hello! what is you name?\") # ask for a input (name) to be added to\n",
    "# file\n",
    "print(\"Hello \" + name) # here we just verify if the name typed was 'capture'\n",
    "#  correctly by the variable 'name'\n",
    "\n",
    "f.write(name) # writes the name into the file. If there are any data inside \n",
    "# the file, this data will be overwritten  \n",
    "f.close() # Its always a good pratice to close the file once we finished using \n",
    "# it to avoid any data loss."
   ]
  },
  {
   "cell_type": "code",
   "execution_count": null,
   "metadata": {
    "colab": {
     "base_uri": "https://localhost:8080/",
     "height": 248
    },
    "colab_type": "code",
    "id": "xLbSZh9Pcdtf",
    "outputId": "96815133-c653-471d-8ee8-b5ffd4983334"
   },
   "outputs": [],
   "source": [
    "# If we run the code above more than one time for different names we can see \n",
    "# that the data is overwritten each time. To update a file we need to append \n",
    "# the information to it. Basically, we have to change the mode from 'w' to 'a'\n",
    "# when opening the file.\n",
    "\n",
    "f = open(\"names.txt\", \"a\") \n",
    "name = input(\"Hello! what is you name?\") \n",
    "print(\"Hello \" + name) \n",
    "\n",
    "f.write(name + \"\\n\") # we add the '\\n' so the names won't be written all in the \n",
    "# line \n",
    "f.close() \n",
    "\n",
    "\n"
   ]
  },
  {
   "cell_type": "markdown",
   "metadata": {
    "colab_type": "text",
    "id": "bgvl4N7ekpSg"
   },
   "source": [
    "---\n",
    "### <Center> Reading from a file\n",
    "---"
   ]
  },
  {
   "cell_type": "code",
   "execution_count": null,
   "metadata": {
    "colab": {},
    "colab_type": "code",
    "id": "m2iG2TcHkuvl"
   },
   "outputs": [],
   "source": [
    "\n",
    "f = open(\"food.txt\", \"r\") # we open the file \n",
    "# in read-only mode (\"r\").\n",
    "\n",
    "data =f.read()\n",
    "\n",
    "print(\"Printing all data\")\n",
    "print(data)# showing the data that was read from the file food.txt\n",
    "f.close() # always close the file once you have finished using it"
   ]
  },
  {
   "cell_type": "code",
   "execution_count": null,
   "metadata": {},
   "outputs": [],
   "source": [
    "# we could also iterate through the lines in the file\n",
    "f = open(\"food.txt\", \"r\")\n",
    "print(\"\\n Printing one line at a time\")\n",
    "for line in f:\n",
    "    print(line)\n",
    "f.close()"
   ]
  },
  {
   "cell_type": "code",
   "execution_count": null,
   "metadata": {},
   "outputs": [],
   "source": [
    "# We can also use the 'with' statement to open a file, do whatever we like with it, and the at the end the 'with' statement\n",
    "# take care of closing the file for us, as illustrated in the following example.\n",
    "\n",
    "with open(\"food.txt\", \"r\") as f:\n",
    "    data = f.read()\n",
    "    print(data)"
   ]
  },
  {
   "cell_type": "markdown",
   "metadata": {
    "colab_type": "text",
    "id": "bgvl4N7ekpSg"
   },
   "source": [
    "---\n",
    "###    <Center> Writing binary files\n",
    "---"
   ]
  },
  {
   "cell_type": "code",
   "execution_count": null,
   "metadata": {},
   "outputs": [],
   "source": [
    "data = [100,24,255] # creating a list with 3 numbers\n",
    "buffer = bytes(data)# Converting the data to bytes (binary numbers)\n",
    "print(buffer)\n",
    "file = open(\"binary.txt\", \"bw\") # 'bw' mode stand for binary write\n",
    "file.write(buffer)\n",
    "file.close()"
   ]
  },
  {
   "cell_type": "markdown",
   "metadata": {},
   "source": [
    "---\n",
    "###    <Center> Reading binary files\n",
    "---"
   ]
  },
  {
   "cell_type": "code",
   "execution_count": null,
   "metadata": {},
   "outputs": [],
   "source": [
    "f = open(\"binary.txt\", \"br\") # 'br' stands for binary read\n",
    "binary = f.read() # reads the bites in file and store in the binary variable\n",
    "print(binary)\n",
    "data = list(binary) # converts the bytes onto list using list() function\n",
    "print(data)\n",
    "f.close()"
   ]
  },
  {
   "cell_type": "markdown",
   "metadata": {},
   "source": [
    "---\n",
    "### Simple game with a scoring mechanism\n",
    "---"
   ]
  },
  {
   "cell_type": "code",
   "execution_count": 3,
   "metadata": {},
   "outputs": [
    {
     "name": "stdout",
     "output_type": "stream",
     "text": [
      "The highest score previously was 2\n",
      "Welcome to the Maths Quiz \n",
      " Can you answer three questions and score maximum points?\n",
      "Before we begin, please tell us your name >> Felipe\n",
      "Question 1 - What is the result of this operation: 2 x 2 x 2\n",
      "Your answer :>> 8\n",
      "Correct\n",
      "Your score is  1\n",
      "Question 2 - What is the result of this operation: 234 + 356\n",
      "Your answer :>> 2\n",
      "Incorrect, the answer is 590\n",
      "Your score is  1\n",
      "Question 3 - What is the result of this operation: 100 - 37\n",
      "Your answer :>> 6\n",
      "Incorrect, the answer is 63\n",
      "Your score is  1\n",
      "Better luck next time Felipe\n"
     ]
    }
   ],
   "source": [
    "def test_answer(correct_answer, user_answer):\n",
    "    \"\"\"Function to test if the user's answer was right or wrong\"\"\"\n",
    "    if correct_answer == user_answer:\n",
    "        print(\"Correct\")\n",
    "        return True\n",
    "    else:\n",
    "        print(\"Incorrect, the answer is \" + str(correct_answer))\n",
    "        return False\n",
    "    \n",
    "def load_highscore():\n",
    "    \"\"\"Load the highest scores in the game\"\"\"\n",
    "    scores = []\n",
    "    names = []\n",
    "    with open(\"highscore.txt\", 'r') as file:\n",
    "        for line in file:\n",
    "            line = line.strip(\"\\n\") # removes the newline character at the end of the record\n",
    "            line = line.split(\",\") # converts the content of the line into a list, spliting \n",
    "            # the string where a comma (',') occurs\n",
    "            names.append(line[0])\n",
    "            scores.append(int(line[1]))\n",
    "    return scores, names\n",
    "\n",
    "def save_and_show_highscore(names, scores):\n",
    "    \"\"\"Save and show the highest scores in the game\"\"\"\n",
    "    with open(\"highscore.txt\", \"w\") as file:\n",
    "        for i in range(len(scores)):\n",
    "            file.write(names[i] + \",\" + str(scores[i]) + \"\\n\")\n",
    "            print(names[i] + \" \" + str(scores[i]))\n",
    "            \n",
    "try:    \n",
    "    # loading the game highest score\n",
    "    with open(\"highscore.txt\", \"r\") as f:\n",
    "        scores, names = load_highscore()\n",
    "        highscore = int(scores[-1])\n",
    "        print(\"The highest score previously was {}\".format(highscore))\n",
    "except FileNotFoundError:\n",
    "    print(\"Creating a new highscore.txt file\")\n",
    "    f = open('highscore.txt', 'w')\n",
    "    f.write(\"NULL,0\")\n",
    "    scores = []\n",
    "    names = []\n",
    "    highscore = 0\n",
    "    f.close()\n",
    "        \n",
    "i=0\n",
    "questions = [\"2 x 2 x 2\",\n",
    "                 \"234 + 356\", \n",
    "                 \"100 - 37\"]\n",
    "correct_answer = [8,590,63]\n",
    "score = 0\n",
    "print(\"Welcome to the Maths Quiz \\n Can you answer three questions and score maximum points?\")\n",
    "player = input(\"Before we begin, please tell us your name >> \")\n",
    "while True:    \n",
    "    print(\"Question {} - What is the result of this operation: {}\".format(i+1, questions[i]))\n",
    "    answer = int(input(\"Your answer :>> \"))\n",
    "    if test_answer(correct_answer[i], answer):\n",
    "        score = score + 1\n",
    "    print(\"Your score is \", score) \n",
    "    i = i + 1\n",
    "    if(i==len(questions)):\n",
    "        break\n",
    "# use the method insert to organize the highscore list\n",
    "if score>=highscore:\n",
    "    highscore = score\n",
    "    print(\"WOW YOU'RE VERY SMART! Your score is among the highest scores in this game!!!\")\n",
    "        scores.append(highscore)\n",
    "        names.append(player)\n",
    "    save_and_show_highscore(names, scores)\n",
    "else:\n",
    "    print(\"Better luck next time \" + player)"
   ]
  },
  {
   "cell_type": "markdown",
   "metadata": {},
   "source": [
    "---\n",
    "## <Center> Week 2"
   ]
  },
  {
   "cell_type": "markdown",
   "metadata": {},
   "source": [
    "---\n",
    "### <center> Structuring data\n",
    "---"
   ]
  },
  {
   "cell_type": "code",
   "execution_count": 11,
   "metadata": {},
   "outputs": [
    {
     "name": "stdout",
     "output_type": "stream",
     "text": [
      "{'Carlos': 'Burguer', 'Felipe': 'Pizza', 'Roberto': 'Lasagna'}\n",
      "Pizza\n",
      "{'Carlos': 'Burguer', 'Felipe': 'Pizza', 'Roberto': 'Lasagna', 'Jorge': 'Ice cream'}\n",
      "{'Carlos': 'Steak', 'Felipe': 'Pizza', 'Roberto': 'Lasagna', 'Jorge': 'Ice cream'}\n",
      "{'Carlos': 'Steak', 'Felipe': 'Fries', 'Roberto': 'Lasagna', 'Jorge': 'Ice cream'}\n",
      "{'Carlos': 'Steak', 'Felipe': 'Fries', 'Jorge': 'Ice cream'}\n"
     ]
    }
   ],
   "source": [
    "# structuring data using dictionaries\n",
    "\n",
    "foods = {\"Carlos\":\"Burguer\", \"Felipe\":\"Pizza\", \"Roberto\":\"Lasagne\"}\n",
    "\n",
    "# Print the whole dictionary\n",
    "print(foods)\n",
    "\n",
    "# Print indivuduals in the dictionary\n",
    "print(foods[\"Felipe\"])\n",
    "\n",
    "# Adding a new item\n",
    "foods[\"Jorge\"] = \"Ice cream\"\n",
    "print(foods)\n",
    "\n",
    "# Updating a item\n",
    "foods.update({\"Carlos\":\"Steak\"})\n",
    "print(foods)\n",
    "\n",
    "# Another way of updating an item\n",
    "foods[\"Felipe\"] = \"Fries\"\n",
    "print(foods)\n",
    "\n",
    "# Deleting an item\n",
    "del foods[\"Roberto\"]\n",
    "print(foods)"
   ]
  },
  {
   "cell_type": "markdown",
   "metadata": {},
   "source": [
    "---\n",
    "### <center>Using CSV in Python\n",
    "---"
   ]
  }
 ],
 "metadata": {
  "colab": {
   "collapsed_sections": [],
   "name": "Programming103.ipynb",
   "provenance": [],
   "toc_visible": true
  },
  "kernelspec": {
   "display_name": "Python 3",
   "language": "python",
   "name": "python3"
  },
  "language_info": {
   "codemirror_mode": {
    "name": "ipython",
    "version": 3
   },
   "file_extension": ".py",
   "mimetype": "text/x-python",
   "name": "python",
   "nbconvert_exporter": "python",
   "pygments_lexer": "ipython3",
   "version": "3.7.4"
  }
 },
 "nbformat": 4,
 "nbformat_minor": 1
}
