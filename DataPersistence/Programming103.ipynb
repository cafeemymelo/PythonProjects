{
 "cells": [
  {
   "cell_type": "markdown",
   "metadata": {
    "colab_type": "text",
    "id": "wcxXp7wDVImD"
   },
   "source": [
    "# <center>Course: Programming 103: Saving and Structuring Data \n",
    "# <center>From: Raspberry Foundation \n",
    "# <center>Available at: www.futurelearn.com \n",
    "## <center>Date: 14/06/2020"
   ]
  },
  {
   "cell_type": "markdown",
   "metadata": {
    "colab": {},
    "colab_type": "code",
    "id": "m_QzvNeTOcka"
   },
   "source": [
    "---\n",
    "## <Center> Week 1    "
   ]
  },
  {
   "cell_type": "markdown",
   "metadata": {
    "colab_type": "text",
    "id": "MTdxa3LweQ2B"
   },
   "source": [
    "---\n",
    "### <center>Writing in a File\n",
    "---"
   ]
  },
  {
   "cell_type": "code",
   "execution_count": null,
   "metadata": {
    "colab": {},
    "colab_type": "code",
    "id": "HZ6b3otbOKLa"
   },
   "outputs": [],
   "source": [
    "\n",
    "f = open(\"names.txt\", \"w\") # opens a file with the name 'names.txt' in writting  \n",
    "#mode. If the file doesn't exists then the open function creates the file.\n",
    "name = input(\"Hello! what is you name?\") # ask for a input (name) to be added to\n",
    "# file\n",
    "print(\"Hello \" + name) # here we just verify if the name typed was 'capture'\n",
    "#  correctly by the variable 'name'\n",
    "\n",
    "f.write(name) # writes the name into the file. If there are any data inside \n",
    "# the file, this data will be overwritten  \n",
    "f.close() # Its always a good pratice to close the file once we finished using \n",
    "# it to avoid any data loss."
   ]
  },
  {
   "cell_type": "code",
   "execution_count": null,
   "metadata": {
    "colab": {
     "base_uri": "https://localhost:8080/",
     "height": 248
    },
    "colab_type": "code",
    "id": "xLbSZh9Pcdtf",
    "outputId": "96815133-c653-471d-8ee8-b5ffd4983334"
   },
   "outputs": [],
   "source": [
    "# If we run the code above more than one time for different names we can see \n",
    "# that the data is overwritten each time. To update a file we need to append \n",
    "# the information to it. Basically, we have to change the mode from 'w' to 'a'\n",
    "# when opening the file.\n",
    "\n",
    "f = open(\"names.txt\", \"a\") \n",
    "name = input(\"Hello! what is you name?\") \n",
    "print(\"Hello \" + name) \n",
    "\n",
    "f.write(name + \"\\n\") # we add the '\\n' so the names won't be written all in the \n",
    "# line \n",
    "f.close() \n",
    "\n",
    "\n"
   ]
  },
  {
   "cell_type": "markdown",
   "metadata": {
    "colab_type": "text",
    "id": "bgvl4N7ekpSg"
   },
   "source": [
    "---\n",
    "### <Center> Reading from a file\n",
    "---"
   ]
  },
  {
   "cell_type": "code",
   "execution_count": null,
   "metadata": {
    "colab": {},
    "colab_type": "code",
    "id": "m2iG2TcHkuvl"
   },
   "outputs": [],
   "source": [
    "\n",
    "f = open(\"food.txt\", \"r\") # we open the file \n",
    "# in read-only mode (\"r\").\n",
    "\n",
    "data =f.read()\n",
    "\n",
    "print(\"Printing all data\")\n",
    "print(data)# showing the data that was read from the file food.txt\n",
    "f.close() # always close the file once you have finished using it"
   ]
  },
  {
   "cell_type": "code",
   "execution_count": null,
   "metadata": {},
   "outputs": [],
   "source": [
    "# we could also iterate through the lines in the file\n",
    "f = open(\"food.txt\", \"r\")\n",
    "print(\"\\n Printing one line at a time\")\n",
    "for line in f:\n",
    "    print(line)\n",
    "f.close()"
   ]
  },
  {
   "cell_type": "code",
   "execution_count": null,
   "metadata": {},
   "outputs": [],
   "source": [
    "# We can also use the 'with' statement to open a file, do whatever we like with it, and the at the end the 'with' statement\n",
    "# take care of closing the file for us, as illustrated in the following example.\n",
    "\n",
    "with open(\"food.txt\", \"r\") as f:\n",
    "    data = f.read()\n",
    "    print(data)"
   ]
  },
  {
   "cell_type": "markdown",
   "metadata": {
    "colab_type": "text",
    "id": "bgvl4N7ekpSg"
   },
   "source": [
    "---\n",
    "###    <Center> Writing binary files\n",
    "---"
   ]
  },
  {
   "cell_type": "code",
   "execution_count": null,
   "metadata": {},
   "outputs": [],
   "source": [
    "data = [100,24,255] # creating a list with 3 numbers\n",
    "buffer = bytes(data)# Converting the data to bytes (binary numbers)\n",
    "print(buffer)\n",
    "file = open(\"binary.txt\", \"bw\") # 'bw' mode stand for binary write\n",
    "file.write(buffer)\n",
    "file.close()"
   ]
  },
  {
   "cell_type": "markdown",
   "metadata": {},
   "source": [
    "---\n",
    "###    <Center> Reading binary files\n",
    "---"
   ]
  },
  {
   "cell_type": "code",
   "execution_count": null,
   "metadata": {},
   "outputs": [],
   "source": [
    "f = open(\"binary.txt\", \"br\") # 'br' stands for binary read\n",
    "binary = f.read() # reads the bites in file and store in the binary variable\n",
    "print(binary)\n",
    "data = list(binary) # converts the bytes onto list using list() function\n",
    "print(data)\n",
    "f.close()"
   ]
  },
  {
   "cell_type": "markdown",
   "metadata": {},
   "source": [
    "---\n",
    "### Simple game with a scoring mechanism\n",
    "---"
   ]
  },
  {
   "cell_type": "code",
   "execution_count": 3,
   "metadata": {},
   "outputs": [
    {
     "name": "stdout",
     "output_type": "stream",
     "text": [
      "The highest score previously was 2\n",
      "Welcome to the Maths Quiz \n",
      " Can you answer three questions and score maximum points?\n",
      "Before we begin, please tell us your name >> Felipe\n",
      "Question 1 - What is the result of this operation: 2 x 2 x 2\n",
      "Your answer :>> 8\n",
      "Correct\n",
      "Your score is  1\n",
      "Question 2 - What is the result of this operation: 234 + 356\n",
      "Your answer :>> 2\n",
      "Incorrect, the answer is 590\n",
      "Your score is  1\n",
      "Question 3 - What is the result of this operation: 100 - 37\n",
      "Your answer :>> 6\n",
      "Incorrect, the answer is 63\n",
      "Your score is  1\n",
      "Better luck next time Felipe\n"
     ]
    }
   ],
   "source": [
    "def test_answer(correct_answer, user_answer):\n",
    "    \"\"\"Function to test if the user's answer was right or wrong\"\"\"\n",
    "    if correct_answer == user_answer:\n",
    "        print(\"Correct\")\n",
    "        return True\n",
    "    else:\n",
    "        print(\"Incorrect, the answer is \" + str(correct_answer))\n",
    "        return False\n",
    "    \n",
    "def load_highscore():\n",
    "    \"\"\"Load the highest scores in the game\"\"\"\n",
    "    scores = []\n",
    "    names = []\n",
    "    with open(\"highscore.txt\", 'r') as file:\n",
    "        for line in file:\n",
    "            line = line.strip(\"\\n\") # removes the newline character at the end of the record\n",
    "            line = line.split(\",\") # converts the content of the line into a list, spliting \n",
    "            # the string where a comma (',') occurs\n",
    "            names.append(line[0])\n",
    "            scores.append(int(line[1]))\n",
    "    return scores, names\n",
    "\n",
    "def save_and_show_highscore(names, scores):\n",
    "    \"\"\"Save and show the highest scores in the game\"\"\"\n",
    "    with open(\"highscore.txt\", \"w\") as file:\n",
    "        for i in range(len(scores)):\n",
    "            file.write(names[i] + \",\" + str(scores[i]) + \"\\n\")\n",
    "            print(names[i] + \" \" + str(scores[i]))\n",
    "            \n",
    "try:    \n",
    "    # loading the game highest score\n",
    "    with open(\"highscore.txt\", \"r\") as f:\n",
    "        scores, names = load_highscore()\n",
    "        highscore = int(scores[-1])\n",
    "        print(\"The highest score previously was {}\".format(highscore))\n",
    "except FileNotFoundError:\n",
    "    print(\"Creating a new highscore.txt file\")\n",
    "    f = open('highscore.txt', 'w')\n",
    "    f.write(\"NULL,0\")\n",
    "    scores = []\n",
    "    names = []\n",
    "    highscore = 0\n",
    "    f.close()\n",
    "        \n",
    "i=0\n",
    "questions = [\"2 x 2 x 2\",\n",
    "                 \"234 + 356\", \n",
    "                 \"100 - 37\"]\n",
    "correct_answer = [8,590,63]\n",
    "score = 0\n",
    "print(\"Welcome to the Maths Quiz \\n Can you answer three questions and score maximum points?\")\n",
    "player = input(\"Before we begin, please tell us your name >> \")\n",
    "while True:    \n",
    "    print(\"Question {} - What is the result of this operation: {}\".format(i+1, questions[i]))\n",
    "    answer = int(input(\"Your answer :>> \"))\n",
    "    if test_answer(correct_answer[i], answer):\n",
    "        score = score + 1\n",
    "    print(\"Your score is \", score) \n",
    "    i = i + 1\n",
    "    if(i==len(questions)):\n",
    "        break\n",
    "# use the method insert to organize the highscore list\n",
    "if score>=highscore:\n",
    "    highscore = score\n",
    "    print(\"WOW YOU'RE VERY SMART! Your score is among the highest scores in this game!!!\")\n",
    "        scores.append(highscore)\n",
    "        names.append(player)\n",
    "    save_and_show_highscore(names, scores)\n",
    "else:\n",
    "    print(\"Better luck next time \" + player)"
   ]
  },
  {
   "cell_type": "markdown",
   "metadata": {},
   "source": [
    "---\n",
    "## <Center> Week 2"
   ]
  },
  {
   "cell_type": "markdown",
   "metadata": {},
   "source": [
    "---\n",
    "### <center> Structuring data\n",
    "---"
   ]
  },
  {
   "cell_type": "code",
   "execution_count": 11,
   "metadata": {},
   "outputs": [
    {
     "name": "stdout",
     "output_type": "stream",
     "text": [
      "{'Carlos': 'Burguer', 'Felipe': 'Pizza', 'Roberto': 'Lasagna'}\n",
      "Pizza\n",
      "{'Carlos': 'Burguer', 'Felipe': 'Pizza', 'Roberto': 'Lasagna', 'Jorge': 'Ice cream'}\n",
      "{'Carlos': 'Steak', 'Felipe': 'Pizza', 'Roberto': 'Lasagna', 'Jorge': 'Ice cream'}\n",
      "{'Carlos': 'Steak', 'Felipe': 'Fries', 'Roberto': 'Lasagna', 'Jorge': 'Ice cream'}\n",
      "{'Carlos': 'Steak', 'Felipe': 'Fries', 'Jorge': 'Ice cream'}\n"
     ]
    }
   ],
   "source": [
    "# structuring data using dictionaries\n",
    "\n",
    "foods = {\"Carlos\":\"Burguer\", \"Felipe\":\"Pizza\", \"Roberto\":\"Lasagne\"}\n",
    "\n",
    "# Print the whole dictionary\n",
    "print(foods)\n",
    "\n",
    "# Print indivuduals in the dictionary\n",
    "print(foods[\"Felipe\"])\n",
    "\n",
    "# Adding a new item\n",
    "foods[\"Jorge\"] = \"Ice cream\"\n",
    "print(foods)\n",
    "\n",
    "# Updating a item\n",
    "foods.update({\"Carlos\":\"Steak\"})\n",
    "print(foods)\n",
    "\n",
    "# Another way of updating an item\n",
    "foods[\"Felipe\"] = \"Fries\"\n",
    "print(foods)\n",
    "\n",
    "# Deleting an item\n",
    "del foods[\"Roberto\"]\n",
    "print(foods)"
   ]
  },
  {
   "cell_type": "markdown",
   "metadata": {},
   "source": [
    "---\n",
    "### <center>Using CSV in Python\n",
    "---"
   ]
  },
  {
   "cell_type": "code",
   "execution_count": 4,
   "metadata": {},
   "outputs": [
    {
     "name": "stdout",
     "output_type": "stream",
     "text": [
      "['Name', 'Food', 'Valor']\n",
      "['Carlos', 'Burguer', '4,7']\n",
      "['Felipe', 'Fries', '3,5']\n",
      "['Roberto', 'Lasagne', '2,8']\n",
      "['Jorge', 'Ice cream', '7,8']\n",
      "['Lara', 'Steak']\n",
      "['Lara', 'Steak']\n",
      "['Lara', 'Steak']\n",
      "['Lara', 'Steak']\n"
     ]
    }
   ],
   "source": [
    "import csv # standard CSV library\n",
    "\n",
    "name = \"Lara\"\n",
    "food = \"Steak\"\n",
    "#adding an item to a csv file\n",
    "# You have to set newline=\"\" otherwise the writer will add an extra line at the of the file\n",
    "with open(\"foods.csv\", mode=\"a\", newline=\"\") as csvfile: \n",
    "    foods = csv.writer(csvfile, delimiter=';')\n",
    "    foods.writerow([name,food])\n",
    "\n",
    "# reading from a csv file \n",
    "with open(\"foods.csv\") as csvfile:\n",
    "    foods = csv.reader(csvfile, delimiter=';')\n",
    "    for row in foods:\n",
    "        print(row)"
   ]
  },
  {
   "cell_type": "markdown",
   "metadata": {},
   "source": [
    "---\n",
    "### <center>Using JSON in python\n",
    "---"
   ]
  },
  {
   "cell_type": "code",
   "execution_count": 16,
   "metadata": {},
   "outputs": [
    {
     "name": "stdout",
     "output_type": "stream",
     "text": [
      "Printing the whole json data in the file:\n",
      "{'Name': 'Neil Armstrong', 'Age': 82, 'Hobbies': ['Aircraft design', 'Fishing', 'Astronaut']}\n",
      "\n",
      "\n",
      "Printing an individual item from the json structure:\n",
      "Aircraft design\n",
      "\n",
      "\n",
      "\n",
      "Printing the data from NASA API\n",
      "{'copyright': 'Philipp Salzgeberfoto-webcam.euAdam Block', 'date': '2020-07-15', 'explanation': 'Comet NEOWISE has been wowing photographers around much of the world during dawn and dusk, at the margins of day and night.  For the most northern residents of planet Earth, however, the comet circles the North Star and never sets. The night part of this circular arc is apparent in the featured composite of images assembled from a webcam located at a ski resort in the Swiss Alps.  Images were selected at 30-minute intervals throughout the night from July 12th -13th. Comet NEOWISE (C/2020 F3) will continue to become more accessible to northern hemisphere observers as its motion places it higher in the sky each evening after sunset over the next few weeks, as it begins its outbound journey.  As with all comets, departure from the inner Solar System comes with inevitable fading.  Binoculars are the best way to find and observe the comet visually.    Notable Images of Comet NEOWISE Submitted to APOD:  || July 14  || July 13  || July 12  || July 11  || July 10 & earlier ||', 'hdurl': 'https://apod.nasa.gov/apod/image/2007/NeowiseAlps_salzgeber_4000.jpg', 'media_type': 'image', 'service_version': 'v1', 'title': 'Comet NEOWISE over the Swiss Alps', 'url': 'https://apod.nasa.gov/apod/image/2007/NeowiseAlps_salzgeber_960.jpg'}\n"
     ]
    }
   ],
   "source": [
    "# Create and write data into a JSON file\n",
    "import json\n",
    "\n",
    "data = {\n",
    "    \"Name\": \"Neil Armstrong\",\n",
    "    \"Age\": 82,\n",
    "    \"Hobbies\": [\"Aircraft design\", \"Fishing\", \"Astronaut\"]\n",
    "}\n",
    "\n",
    "with open(\"neil.json\", \"w\") as f:\n",
    "    json.dump(data, f) # writes the json (dictionary) to the file\n",
    "    \n",
    "\n",
    "# Loading data from a JSON file\n",
    "with open(\"neil.json\", \"r\") as f:\n",
    "    data2 = json.load(f)# read the json file\n",
    "print(\"Printing the whole json data in the file:\")\n",
    "print(data2)\n",
    "print(\"\\n\")\n",
    "print(\"Printing an individual item from the json structure:\")\n",
    "print(data2['Hobbies'][0])# how to get an indivudual item from the json structure\n",
    "print(\"\\n\")\n",
    "\n",
    "# Using NASA public API\n",
    "import requests\n",
    "r = requests.get(\"https://api.nasa.gov/planetary/apod?api_key=DEMO_KEY\")\n",
    "NASA = r.json()\n",
    "print(\"Printing the data from NASA API:\")\n",
    "print(NASA)"
   ]
  },
  {
   "cell_type": "markdown",
   "metadata": {},
   "source": [
    "---\n",
    "### <center> RPG Game\n",
    "---"
   ]
  },
  {
   "cell_type": "code",
   "execution_count": 1,
   "metadata": {
    "scrolled": true
   },
   "outputs": [
    {
     "name": "stdout",
     "output_type": "stream",
     "text": [
      "retrieving player status...\n",
      "---------------------------\n",
      "cfemelo is in the Dining Room\n",
      "Health : 4\n",
      "Inventory : ['key', 'potion']\n",
      "You see a potion\n",
      "---------------------------\n",
      ">go south\n",
      "You escaped the house... YOU WIN!\n"
     ]
    }
   ],
   "source": [
    "import json\n",
    "def showInstructions():\n",
    "    # Print a main menu and the commands\n",
    "    print('''\n",
    "RPG Game\n",
    "========\n",
    "\n",
    "Get to the Garden with a key and a potion.\n",
    "Avoid the monsters!\n",
    "\n",
    "You are getting tired; each time you move you lose 1 health point.\n",
    "\n",
    "Commands:\n",
    "  go [direction]\n",
    "  get [item]\n",
    "''')\n",
    "\n",
    "def showStatus():\n",
    "    # Print the player's current status\n",
    "    print('---------------------------')\n",
    "    print(name + ' is in the ' + current_room)\n",
    "    print(\"Health : \" + str(health))\n",
    "    # Print the current inventory\n",
    "    print(\"Inventory : \" + str(inventory))\n",
    "    # Print an item if there is one\n",
    "    if \"item\" in rooms[current_room]:\n",
    "        print('You see a ' + rooms[current_room]['item'])\n",
    "    print(\"---------------------------\")\n",
    "def updatePlayerStatus(gameover):\n",
    "    if not gameover:\n",
    "        gamedata = {\"player name\": name,\n",
    "                   \"player health\": health,\n",
    "                   \"player room\": current_room,\n",
    "                    \"inventory\": inventory\n",
    "                   }\n",
    "    else:\n",
    "        gamedata = {\"player name\": name,\n",
    "                   \"player health\": 5,\n",
    "                   \"player room\": \"Hall\",\n",
    "                    \"inventory\": []\n",
    "                   }\n",
    "    with open(\"gamedata.json\",\"w\") as file:\n",
    "        json.dump(gamedata, file) # this command writes the gamedata dictionary into the file \"gamedata.json\", \n",
    "        # overwritting everything because is in mode \"w\".\n",
    "\n",
    "# Set up the game\n",
    "try:\n",
    "    print(\"retrieving player status...\")\n",
    "    with open(\"gamedata.json\", \"r\") as file:\n",
    "        gamedata = json.load(file)\n",
    "        name = gamedata[\"player name\"]\n",
    "        health = gamedata[\"player health\"]\n",
    "        current_room = gamedata[\"player room\"]\n",
    "        inventory = gamedata[\"inventory\"]\n",
    "    if health <=0:\n",
    "        pass\n",
    "    elif health > 5:\n",
    "        for i in range(10):\n",
    "            print(\"Got ya!!! Cheater...\")\n",
    "except FileNotFoundError:\n",
    "    print(\"No player found, creating a new gamedata file\")\n",
    "    f = open(\"gamedata.json\", \"w\")\n",
    "    f.close()\n",
    "    name = None\n",
    "    health = 5\n",
    "    current_room = 'Hall'\n",
    "    inventory = []\n",
    "# A dictionary linking a room to other room positions\n",
    "rooms = {\n",
    "          'Hall' : { 'south' : 'Kitchen',\n",
    "                     'east'  : 'Dining Room',\n",
    "                     'item'  : 'key'\n",
    "                   },\n",
    "\n",
    "          'Kitchen' : { 'north' : 'Hall',\n",
    "                        'item'  : 'monster'\n",
    "                      },\n",
    "\n",
    "          'Dining Room' : { 'west'  : 'Hall',\n",
    "                            'south' : 'Garden',\n",
    "                            'item'  : 'potion'\n",
    "                          },\n",
    "\n",
    "          'Garden' : { 'north' : 'Dining Room' }\n",
    "        }\n",
    "\n",
    "# Ask the player their name\n",
    "if name is None:\n",
    "    name = input(\"What is your name, Adventurer? \")\n",
    "    showInstructions()\n",
    "\n",
    "# Loop forever\n",
    "while True:\n",
    "\n",
    "    showStatus()\n",
    "\n",
    "    # Get the player's next 'move'\n",
    "    # .split() breaks it up into an list array\n",
    "    # e.g. typing 'go east' would give the list:\n",
    "    # ['go','east']\n",
    "    move = ''\n",
    "    while move == '':\n",
    "        move = input('>')\n",
    "\n",
    "    move = move.lower().split()\n",
    "\n",
    "    # If they type 'go' first\n",
    "    if move[0] == 'go':\n",
    "        health = health - 1\n",
    "        # Check that they are allowed wherever they want to go\n",
    "        if move[1] in rooms[current_room]:\n",
    "          # Set the current room to the new room\n",
    "          current_room = rooms[current_room][move[1]]\n",
    "        # or, if there is no door (link) to the new room\n",
    "        else:\n",
    "            print('You can\\'t go that way!')\n",
    "\n",
    "    # If they type 'get' first\n",
    "    if move[0] == 'get' :\n",
    "    # If the room contains an item, and the item is the one they want to get\n",
    "        if 'item' in rooms[current_room] and move[1] in rooms[current_room]['item']:\n",
    "          # Add the item to their inventory\n",
    "          inventory += [move[1]]\n",
    "          # Display a helpful message\n",
    "          print(move[1] + ' got!')\n",
    "          # Delete the item from the room\n",
    "          del rooms[current_room]['item']\n",
    "        # Otherwise, if the item isn't there to get\n",
    "        else:\n",
    "          # Tell them they can't get it\n",
    "          print('Can\\'t get ' + move[1] + '!')\n",
    "\n",
    "    # Player loses if they enter a room with a monster\n",
    "    if 'item' in rooms[current_room] and 'monster' in rooms[current_room]['item']:\n",
    "        print('A monster has got you... GAME OVER!')\n",
    "        updatePlayerStatus(True)\n",
    "        break\n",
    "\n",
    "    if health == 0:\n",
    "        print('You collapse from exhaustion... GAME OVER!')\n",
    "        updatePlayerStatus(True)\n",
    "        break\n",
    "\n",
    "    # Player wins if they get to the garden with a key and a potion\n",
    "    if current_room == 'Garden' and 'key' in inventory and 'potion' in inventory:\n",
    "        print('You escaped the house... YOU WIN!')\n",
    "        updatePlayerStatus(True)\n",
    "        break\n",
    "\n",
    "    updatePlayerStatus(False)\n",
    "        "
   ]
  }
 ],
 "metadata": {
  "colab": {
   "collapsed_sections": [],
   "name": "Programming103.ipynb",
   "provenance": [],
   "toc_visible": true
  },
  "kernelspec": {
   "display_name": "Python 3",
   "language": "python",
   "name": "python3"
  },
  "language_info": {
   "codemirror_mode": {
    "name": "ipython",
    "version": 3
   },
   "file_extension": ".py",
   "mimetype": "text/x-python",
   "name": "python",
   "nbconvert_exporter": "python",
   "pygments_lexer": "ipython3",
   "version": "3.7.4"
  }
 },
 "nbformat": 4,
 "nbformat_minor": 1
}
